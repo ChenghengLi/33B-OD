{
 "cells": [
  {
   "cell_type": "markdown",
   "metadata": {},
   "source": [
    "# COMPUTACIONAL HW 3\n",
    "\n",
    "## MADE BY: CHENGHENG LI CHEN "
   ]
  },
  {
   "cell_type": "code",
   "execution_count": 6,
   "metadata": {},
   "outputs": [],
   "source": [
    "import numpy as np\n",
    "import matplotlib.pyplot as plt\n",
    "\n",
    "# np.linalg.eig"
   ]
  },
  {
   "cell_type": "markdown",
   "metadata": {},
   "source": [
    "# PROBLEM 1"
   ]
  },
  {
   "cell_type": "markdown",
   "metadata": {},
   "source": [
    "a) Create a $3$ by $3$ matrix $M$ using the $9$ digits of your student number. For example, if your student number\n",
    "\n",
    "$$M = \n",
    "\\begin{bmatrix}\n",
    "7 & 0 & 6\\\\\n",
    "3 & 2 & 0 \\\\\n",
    "7 & 1 & 8\n",
    "\\end{bmatrix}\n",
    "$$\n",
    "\n",
    "\n",
    "Let $A = M + M^T$ where $M^T$ is the transpose of $M$. Then $A$ is a symmetric matrix and all the eigenvalues are real $\\lambda_1 \\leq \\lambda_2 \\leq \\lambda_3$."
   ]
  },
  {
   "cell_type": "code",
   "execution_count": 2,
   "metadata": {},
   "outputs": [
    {
     "data": {
      "text/plain": [
       "array([[14,  3, 13],\n",
       "       [ 3,  4,  1],\n",
       "       [13,  1, 16]])"
      ]
     },
     "execution_count": 2,
     "metadata": {},
     "output_type": "execute_result"
    }
   ],
   "source": [
    "import numpy as np\n",
    "\n",
    "# Create the matrix M\n",
    "M = np.array([[7, 0, 6], [3, 2, 0], [7, 1, 8]])\n",
    "\n",
    "# Compute the transpose of M\n",
    "M_T = M.transpose()\n",
    "\n",
    "# Compute the matrix A\n",
    "A = M + M_T\n",
    "\n",
    "A"
   ]
  },
  {
   "cell_type": "markdown",
   "metadata": {},
   "source": [
    "b) Compute the eigenvalues and eigenvectors of $A$."
   ]
  },
  {
   "cell_type": "code",
   "execution_count": 5,
   "metadata": {},
   "outputs": [
    {
     "name": "stdout",
     "output_type": "stream",
     "text": [
      "Eigenvalue:  1.0820831384329574\n",
      "Eigenvector:  [-0.66932902  0.49974338  0.54977742]\n",
      "\n",
      "Eigenvalue:  4.562856740965151\n",
      "Eigenvector:  [-0.29967981 -0.85870632  0.41571079]\n",
      "\n",
      "Eigenvalue:  28.35506012060189\n",
      "Eigenvector:  [-0.67984607 -0.1134901  -0.72452006]\n",
      "\n"
     ]
    }
   ],
   "source": [
    "# Compute the eigenvalues and eigenvectors of A\n",
    "eigenvalues, eigenvectors = np.linalg.eigh(A)\n",
    "\n",
    "# Print the eigenvalues adn eignenvectors\n",
    "\n",
    "for i in range(len(eigenvalues)):\n",
    "    print('Eigenvalue: ', eigenvalues[i])\n",
    "    print('Eigenvector: ', eigenvectors[:, i])\n",
    "    print()\n"
   ]
  },
  {
   "cell_type": "markdown",
   "metadata": {},
   "source": [
    "c) Consider the linear system of equations  $ \\vec{y} ' =  A \\vec{y}$. Let  $\\vec{y} (t) = \\begin{bmatrix} y_1 (t) & y_2 (t) & y_3 (t)\\\\ \\end{bmatrix}$ be the\n",
    "unique solution such that  $\\vec{y} = \\vec{v}_1$. In the same figure, plot each of the functions $y_1 (t), y_2 (t), y_3 (t)$, on the interval $0 \\leq t \\leq 1$.\n"
   ]
  },
  {
   "cell_type": "code",
   "execution_count": 8,
   "metadata": {},
   "outputs": [
    {
     "data": {
      "image/png": "[encoded data removed]",
      "text/plain": [
       "<Figure size 640x480 with 1 Axes>"
      ]
     },
     "metadata": {},
     "output_type": "display_data"
    }
   ],
   "source": [
    "# Define the initial condition y(0) = v_1\n",
    "y0 = eigenvectors[:, 0]\n",
    "\n",
    "# Define the time interval 0 <= t <= 1\n",
    "t = np.linspace(0, 1, 1000)\n",
    "\n",
    "# Compute the solution y(t) for each time point\n",
    "y_t = np.zeros((3, len(t)))\n",
    "for i in range(3):\n",
    "    y_t[i] = y0[i] * np.exp(eigenvalues[i] * t)\n",
    "\n",
    "# Plot the functions y_1(t), y_2(t), y_3(t)\n",
    "plt.plot(t, y_t[0], label='$y_1(t)$')\n",
    "plt.plot(t, y_t[1], label='$y_2(t)$')\n",
    "plt.plot(t, y_t[2], label='$y_3(t)$')\n",
    "\n",
    "# Add labels and legend\n",
    "plt.xlabel('t')\n",
    "plt.ylabel('y(t)')\n",
    "plt.legend()\n",
    "\n",
    "# Display the plot\n",
    "plt.show()"
   ]
  },
  {
   "cell_type": "markdown",
   "metadata": {},
   "source": [
    "# PROBLEM 2"
   ]
  },
  {
   "cell_type": "markdown",
   "metadata": {},
   "source": [
    "Let $\\vec{y} = A \\vec{t}$ be a homogeneous linear system of equations. Let $\\lambda$ be a complex eigenvalue of $A$ with eigenvector $\\vec{v}$. This yields 2 real solutions of the system:\n",
    "\n",
    "$$\n",
    "\\vec{y}_1 (t) = Re(\\vec{v}e^{\\lambda t}), \n",
    "\\vec{y}_2 (t) = Im(\\vec{v}e^{\\lambda t})\n",
    "$$\n",
    "\n",
    "\n",
    "It’s very cumbersome to compute these real solutions algebraically by hand, so let’s use a computer.\n",
    "\n",
    "Consider the homogeneous linear system  $\\vec{y} '= A\\vec{y}$ where\n",
    "\n",
    "\n",
    "$$\\vec{y} (t) = \n",
    "\\begin{bmatrix} \n",
    "\n",
    "3 & 5 & -3 & 9\\\\ \n",
    "-1 & -7 & 3 & 6\\\\\n",
    "1 & 4 & 6 & 0\\\\\n",
    "-4 & -7 & -9 & -1\n",
    "\n",
    "\\end{bmatrix}$$\n",
    "\n"
   ]
  },
  {
   "cell_type": "markdown",
   "metadata": {},
   "source": [
    "a) Compute the eigenvalues and eigenvectors of $A$"
   ]
  },
  {
   "cell_type": "code",
   "execution_count": 9,
   "metadata": {},
   "outputs": [
    {
     "name": "stdout",
     "output_type": "stream",
     "text": [
      "Eigenvalue:  -12.475387542336875\n",
      "Eigenvector:  [0.20126002 0.74038771 0.13430277 0.62712296]\n",
      "\n",
      "Eigenvalue:  -4.918707269535056\n",
      "Eigenvector:  [-0.10755608  0.57771149 -0.6251771  -0.51364844]\n",
      "\n",
      "Eigenvalue:  3.1142987471854773\n",
      "Eigenvector:  [ 0.9475105  -0.16316133 -0.26966369 -0.05370041]\n",
      "\n",
      "Eigenvalue:  15.279796064686456\n",
      "Eigenvector:  [ 0.22394185  0.30241339  0.71999851 -0.58309377]\n",
      "\n"
     ]
    }
   ],
   "source": [
    "A = np.array([[3, 5, -3, 9], [-1, -7, 3, 6], [1, 4, 6, 0], [-4, -7, -9, -1]])\n",
    "\n",
    "# Compute the eigenvalues and eigenvectors of A\n",
    "eigenvalues, eigenvectors = np.linalg.eigh(A)\n",
    "\n",
    "# Print the eigenvalues adn eignenvectors\n",
    "\n",
    "for i in range(len(eigenvalues)):\n",
    "    print('Eigenvalue: ', eigenvalues[i])\n",
    "    print('Eigenvector: ', eigenvectors[:, i])\n",
    "    print()\n"
   ]
  },
  {
   "cell_type": "markdown",
   "metadata": {},
   "source": [
    "a) Compute the eigenvalues and eigenvectors of $A$\n",
    "\n",
    "$$Im(\\vec{v} e^{\\lambda t}) = \n",
    "\\begin{bmatrix} \n",
    "\n",
    "y_1 (t)\\\\ \n",
    "y_2 (t) \\\\\n",
    "y_3 (t) \\\\\n",
    "y_4 (t)\n",
    "\n",
    "\\end{bmatrix}$$\n",
    "\n",
    "Plot the four components $y_1 (t), y_2 (t), y_3 (t)$ and $y_4 (t)$ in the same figure on the interval $0 \\leq t \\leq 3$.\n",
    "\n",
    "\n"
   ]
  },
  {
   "cell_type": "code",
   "execution_count": null,
   "metadata": {},
   "outputs": [],
   "source": []
  }
 ],
 "metadata": {
  "kernelspec": {
   "display_name": "Python 3",
   "language": "python",
   "name": "python3"
  },
  "language_info": {
   "codemirror_mode": {
    "name": "ipython",
    "version": 3
   },
   "file_extension": ".py",
   "mimetype": "text/x-python",
   "name": "python",
   "nbconvert_exporter": "python",
   "pygments_lexer": "ipython3",
   "version": "3.8.8"
  }
 },
 "nbformat": 4,
 "nbformat_minor": 2
}
