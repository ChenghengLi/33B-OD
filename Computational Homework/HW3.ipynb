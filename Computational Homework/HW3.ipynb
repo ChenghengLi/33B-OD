{
 "cells": [
  {
   "cell_type": "markdown",
   "metadata": {},
   "source": [
    "# COMPUTACIONAL HW 3\n",
    "\n",
    "## MADE BY: CHENGHENG LI CHEN "
   ]
  },
  {
   "cell_type": "code",
   "execution_count": null,
   "metadata": {},
   "outputs": [],
   "source": [
    "import numpy as np\n",
    "\n",
    "# np.linalg.eig"
   ]
  },
  {
   "cell_type": "markdown",
   "metadata": {},
   "source": [
    "# PROBLEM 1"
   ]
  },
  {
   "cell_type": "markdown",
   "metadata": {},
   "source": [
    "a) Create a $3$ by $3$ matrix $M$ using the $9$ digits of your student number. For example, if your student number\n",
    "\n",
    "$$M = \n",
    "\\begin{bmatrix}\n",
    "7 & 0 & 6\\\\\n",
    "3 & 2 & 0 \\\\\n",
    "7 & 1 & 8\n",
    "\\end{bmatrix}\n",
    "$$\n",
    "\n",
    "\n",
    "Let $A = M + M^T$ where $M^T$ is the transpose of $M$. Then $A$ is a symmetric matrix and all the eigenvalues are real $\\lambda_1 \\leq \\lambda_2 \\leq \\lambda_3$."
   ]
  },
  {
   "cell_type": "code",
   "execution_count": null,
   "metadata": {},
   "outputs": [],
   "source": []
  },
  {
   "cell_type": "markdown",
   "metadata": {},
   "source": [
    "b) Compute the eigenvalues and eigenvectors of $A$."
   ]
  },
  {
   "cell_type": "code",
   "execution_count": null,
   "metadata": {},
   "outputs": [],
   "source": []
  },
  {
   "cell_type": "markdown",
   "metadata": {},
   "source": [
    "c) Consider the linear system of equations  $ \\vec{y} ' =  A \\vec{y}$. Let  $\\vec{y} (t) = \\begin{bmatrix} y_1 (t) & y_2 (t) & y_3 (t)\\\\ \\end{bmatrix}$ be the\n",
    "unique solution such that  $\\vec{y} = \\vec{v}_1$. In the same figure, plot each of the functions $y_1 (t), y_2 (t), y_3 (t)$, on the interval $0 \\leq t \\leq 1$.\n"
   ]
  },
  {
   "cell_type": "markdown",
   "metadata": {},
   "source": [
    "# PROBLEM 2"
   ]
  },
  {
   "cell_type": "markdown",
   "metadata": {},
   "source": [
    "Let $\\vec{y} = A \\vec{t}$ be a homogeneous linear system of equations. Let $\\lambda$ be a complex eigenvalue of $A$ with eigenvector $\\vec{v}$. This yields 2 real solutions of the system:\n",
    "\n",
    "$$\n",
    "\\vec{y}_1 (t) = Re(\\vec{v}e^{\\lambda t}), \n",
    "\\vec{y}_2 (t) = Im(\\vec{v}e^{\\lambda t})\n",
    "$$\n",
    "\n",
    "\n",
    "It’s very cumbersome to compute these real solutions algebraically by hand, so let’s use a computer.\n",
    "\n",
    "Consider the homogeneous linear system  $\\vec{y} '= A\\vec{y}$ where\n",
    "\n",
    "\n",
    "$$\\vec{y} (t) = \n",
    "\\begin{bmatrix} \n",
    "\n",
    "3 & 5 & -3 & 9\\\\ \n",
    "-1 & -7 & 3 & 6\\\\\n",
    "1 & 4 & 6 & 0\\\\\n",
    "-4 & -7 & -9 & -1\n",
    "\n",
    "\\end{bmatrix}$$\n",
    "\n"
   ]
  },
  {
   "cell_type": "markdown",
   "metadata": {},
   "source": [
    "a) Compute the eigenvalues and eigenvectors of $A$"
   ]
  },
  {
   "cell_type": "code",
   "execution_count": null,
   "metadata": {},
   "outputs": [],
   "source": []
  },
  {
   "cell_type": "markdown",
   "metadata": {},
   "source": [
    "a) Compute the eigenvalues and eigenvectors of $A$\n",
    "\n",
    "$$Im(\\vec{v} e^{\\lambda t}) = \n",
    "\\begin{bmatrix} \n",
    "\n",
    "y_1 (t)\\\\ \n",
    "y_2 (t) \\\\\n",
    "y_3 (t) \\\\\n",
    "y_4 (t)\n",
    "\n",
    "\\end{bmatrix}$$\n",
    "\n",
    "Plot the four components $y_1 (t), y_2 (t), y_3 (t)$ and $y_4 (t)$ in the same figure on the interval $0 \\leq t \\leq 3$.\n",
    "\n",
    "\n"
   ]
  },
  {
   "cell_type": "code",
   "execution_count": null,
   "metadata": {},
   "outputs": [],
   "source": []
  }
 ],
 "metadata": {
  "language_info": {
   "name": "python"
  }
 },
 "nbformat": 4,
 "nbformat_minor": 2
}
