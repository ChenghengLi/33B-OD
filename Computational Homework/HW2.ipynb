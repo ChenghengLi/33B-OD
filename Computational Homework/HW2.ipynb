{
 "cells": [
  {
   "cell_type": "markdown",
   "metadata": {},
   "source": [
    "# COMPUTACIONAL HW 2 MATH 33B"
   ]
  },
  {
   "cell_type": "markdown",
   "metadata": {},
   "source": [
    "### MADE BY : CHENGHENG LI CHEN"
   ]
  },
  {
   "cell_type": "markdown",
   "metadata": {},
   "source": [
    "Execute to install dependencies."
   ]
  },
  {
   "cell_type": "code",
   "execution_count": null,
   "metadata": {},
   "outputs": [],
   "source": [
    "!pip install numpy\n",
    "!pip install pandas\n",
    "!pip install scipy\n",
    "!pip install matplotlib"
   ]
  },
  {
   "cell_type": "markdown",
   "metadata": {},
   "source": [
    "Libraries to use"
   ]
  },
  {
   "cell_type": "code",
   "execution_count": null,
   "metadata": {},
   "outputs": [],
   "source": [
    "import numpy as np\n",
    "import pandas as pd\n",
    "import scipy as sp\n",
    "import matplotlib.pyplot as plt"
   ]
  },
  {
   "cell_type": "markdown",
   "metadata": {},
   "source": [
    "##### PROBLEM 1\n",
    "\n",
    "Consider a damped forced system\n",
    "\n",
    "$$\n",
    "\n",
    "y{''} + \\frac{\\mu}{m} y{'} + \\frac{k}{m} y = \\frac{F_0}{m} cos(\\omega t)  \n",
    "$$\n",
    "\n",
    "where $\\omega$ is the forcing frequency. Using analytical  methods, we find the sketchy state response (particular solutions).\n",
    "\n",
    "$$\n",
    "y_s(t) =   \\frac{F_0}{m \\sqrt{(2 \\omega p)^{2} + (\\omega_0^{2} - \\omega^2)^2}} cos(\\omega y - \\gamma) \n",
    "$$\n",
    "\n",
    "where \n",
    "\n",
    "$$\n",
    "p = \\frac{\\mu}{2m}, \\omega_0 = \\sqrt{\\frac{k}{m}}, \\gamma = arctan(\\frac{2 \\omega p}{\\omega_0^2 - \\omega^2}) \n",
    "$$\n",
    "\n",
    "\n"
   ]
  },
  {
   "cell_type": "markdown",
   "metadata": {},
   "source": [
    "(a) Let $m = 4, \\mu = 1, k = 8$ and $F_0 = 8$. Plot the amplitud $A$ of the steady state response versus $\\omega$ for $0 \\leq \\omega \\leq 5$"
   ]
  },
  {
   "cell_type": "code",
   "execution_count": null,
   "metadata": {},
   "outputs": [],
   "source": []
  },
  {
   "cell_type": "markdown",
   "metadata": {},
   "source": [
    "(b) With the same parameters, plot the phase shift $\\gamma$ of the steady state response versus $\\omega$ for $0 \\leq \\omega \\leq 5$"
   ]
  },
  {
   "cell_type": "code",
   "execution_count": null,
   "metadata": {},
   "outputs": [],
   "source": []
  },
  {
   "cell_type": "markdown",
   "metadata": {},
   "source": [
    "(c) Estimate the maximun value of $A$ and the frequency $\\omega$ for which occurs. "
   ]
  },
  {
   "cell_type": "code",
   "execution_count": null,
   "metadata": {},
   "outputs": [],
   "source": []
  },
  {
   "cell_type": "markdown",
   "metadata": {},
   "source": [
    "##### PROBLEM 2\n",
    "\n",
    "Consider an undamped mass-spring system where $m = 2, k = 10$ and $\\mu = 0$ and with forcing function $F(t) = cos(\\omega t)$\n",
    "\n",
    "$$\n",
    "2y{''}(t) + 10y(t) = cos(\\omega t), y(0) = y{'}=0\n",
    "$$"
   ]
  },
  {
   "cell_type": "markdown",
   "metadata": {},
   "source": [
    "(a) Plot the solution $y(t)$ with $\\omega = 2.5$ for $0 \\leq t \\leq 100$"
   ]
  },
  {
   "cell_type": "code",
   "execution_count": null,
   "metadata": {},
   "outputs": [],
   "source": []
  },
  {
   "cell_type": "markdown",
   "metadata": {},
   "source": [
    "(b) Experiment with different values for the foricng frequency $\\omega$ in $F(t) =cos(\\omega t)$. Find the maximum range of values (to $2$ decimal places) suh that the maximum amplitude $|y(t)|$ exceeds $1$. (Note. It may be helpful to use a for loop  and  max function)"
   ]
  },
  {
   "cell_type": "code",
   "execution_count": null,
   "metadata": {},
   "outputs": [],
   "source": []
  }
 ],
 "metadata": {
  "language_info": {
   "name": "python"
  }
 },
 "nbformat": 4,
 "nbformat_minor": 2
}
